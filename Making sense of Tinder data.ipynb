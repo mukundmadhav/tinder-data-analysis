{
 "cells": [
  {
   "cell_type": "markdown",
   "metadata": {},
   "source": [
    "## Decoding Tinder Data\n",
    "\n",
    "We'll try to make sense of my Tinder data.\n",
    "\n",
    "#### For indepth analysis and explanation please visit: https://medium.com/@mukundmadhav/tinder-data-54ba494e0a59\n",
    "\n",
    "You can download your data here: <a href=\"https://account.gotinder.com/data\">https://account.gotinder.com/data</a>\n",
    "\n",
    "If you want to generate similar report for your data, just add your\n",
    "data.json(that you go from the aforementioned link) file in the same directory \n",
    "as this Python Notebook.\n"
   ]
  },
  {
   "cell_type": "code",
   "execution_count": 1,
   "metadata": {},
   "outputs": [],
   "source": [
    "#Importing packages\n",
    "import json # to read json file\n",
    "import pandas as pd # to use data frame\n",
    "import matplotlib.pyplot as plt # for plotting charts\n",
    "from datetime import datetime # to well...use datetime..."
   ]
  },
  {
   "cell_type": "code",
   "execution_count": 2,
   "metadata": {},
   "outputs": [],
   "source": [
    "f = open('./data.json', 'r', encoding=\"utf8\")\n",
    "data = json.load(f) #reading the json file from 'f'\n",
    "\n",
    "#We are going to be using the usage array, so storing it in another avriable for faster retrival\n",
    "usageData = data[\"Usage\"]\n",
    "f.close()"
   ]
  },
  {
   "cell_type": "markdown",
   "metadata": {},
   "source": [
    "After we have imported the data\n",
    "\n",
    "Let's analyze the swipes"
   ]
  },
  {
   "cell_type": "code",
   "execution_count": 3,
   "metadata": {},
   "outputs": [
    {
     "name": "stdout",
     "output_type": "stream",
     "text": [
      "Total swipes:  10106\n",
      "Number of likes:  1259\n",
      "Number of passes:  8847\n"
     ]
    }
   ],
   "source": [
    "noOfLikes = sum(usageData[\"swipes_likes\"].values())\n",
    "noOfPasses = sum(usageData[\"swipes_passes\"].values())\n",
    "totalSwipes = noOfLikes + noOfPasses\n",
    "print('Total swipes: ', totalSwipes)\n",
    "print('Number of likes: ', noOfLikes)\n",
    "print('Number of passes: ', noOfPasses)"
   ]
  },
  {
   "cell_type": "markdown",
   "metadata": {},
   "source": [
    "To put it into graphical terms..."
   ]
  },
  {
   "cell_type": "code",
   "execution_count": 4,
   "metadata": {},
   "outputs": [
    {
     "data": {
      "image/png": "[encoded data removed]",
      "text/plain": [
       "<Figure size 432x288 with 1 Axes>"
      ]
     },
     "metadata": {},
     "output_type": "display_data"
    }
   ],
   "source": [
    "slices_hours = [noOfLikes, noOfPasses]\n",
    "activities = ['Right Swipes', 'Left Swipes']\n",
    "plt.pie(slices_hours, labels=activities,startangle=90, autopct='%.1f%%')\n",
    "plt.show()"
   ]
  },
  {
   "cell_type": "markdown",
   "metadata": {},
   "source": [
    "<a href='http://colorhexpicker.com/'>Color hex picker</a> is the perfect site, you'd want to tinker with the colors and find a color that suits your pie chart."
   ]
  },
  {
   "cell_type": "markdown",
   "metadata": {},
   "source": [
    "Now let's grab the matches"
   ]
  },
  {
   "cell_type": "code",
   "execution_count": 5,
   "metadata": {},
   "outputs": [
    {
     "name": "stdout",
     "output_type": "stream",
     "text": [
      "Number of matches:  255\n"
     ]
    }
   ],
   "source": [
    "noOfMatches = sum(usageData[\"matches\"].values())\n",
    "print('Number of matches: ', noOfMatches)"
   ]
  },
  {
   "cell_type": "markdown",
   "metadata": {},
   "source": [
    "To put it into graphical terms..."
   ]
  },
  {
   "cell_type": "code",
   "execution_count": 6,
   "metadata": {},
   "outputs": [
    {
     "data": {
      "image/png": "[encoded data removed]",
      "text/plain": [
       "<Figure size 432x288 with 1 Axes>"
      ]
     },
     "metadata": {},
     "output_type": "display_data"
    }
   ],
   "source": [
    "slices_hours = [noOfLikes-noOfMatches, noOfMatches]\n",
    "activities = ['People who I swiped right but didn\\'t match', 'Matches']\n",
    "plt.pie(slices_hours, labels=activities,startangle=90, autopct='%.1f%%')\n",
    "plt.show()"
   ]
  },
  {
   "cell_type": "markdown",
   "metadata": {},
   "source": [
    "Quantifying my desparation..."
   ]
  },
  {
   "cell_type": "code",
   "execution_count": 7,
   "metadata": {},
   "outputs": [
    {
     "name": "stdout",
     "output_type": "stream",
     "text": [
      "Most number of swipes in a day:  1059\n",
      "Most number of likes in a day:  74\n",
      "Most number of passes in a day:  985\n",
      "---------------------------------------------------------\n",
      "Most messages sent in a day:  58\n",
      "Most messages received in a day:  61\n",
      "Most app opens in a day:  38\n"
     ]
    }
   ],
   "source": [
    "mostLikesInDay = max(usageData[\"swipes_likes\"].values())\n",
    "mostPassesInDay = max(usageData[\"swipes_passes\"].values())\n",
    "\n",
    "print('Most number of swipes in a day: ', mostLikesInDay + mostPassesInDay)\n",
    "print('Most number of likes in a day: ', mostLikesInDay)\n",
    "print('Most number of passes in a day: ', mostPassesInDay)\n",
    "print('---------------------------------------------------------')\n",
    "\n",
    "mostMessagesRecievedInDay = max(usageData[\"messages_received\"].values())\n",
    "mostMessagesSentInDay = max(usageData[\"messages_sent\"].values())\n",
    "mostAppOpenInDay = max(usageData[\"app_opens\"].values())\n",
    "\n",
    "print('Most messages sent in a day: ', mostMessagesSentInDay)\n",
    "print('Most messages received in a day: ', mostMessagesRecievedInDay)\n",
    "print('Most app opens in a day: ', mostAppOpenInDay)\n"
   ]
  },
  {
   "cell_type": "markdown",
   "metadata": {},
   "source": [
    "#### Matches by day of the week"
   ]
  },
  {
   "cell_type": "code",
   "execution_count": 38,
   "metadata": {},
   "outputs": [
    {
     "data": {
      "text/plain": [
       "<matplotlib.axes._subplots.AxesSubplot at 0x17a95ab74e0>"
      ]
     },
     "execution_count": 38,
     "metadata": {},
     "output_type": "execute_result"
    },
    {
     "data": {
      "image/png": "[encoded data removed]",
      "text/plain": [
       "<Figure size 432x288 with 1 Axes>"
      ]
     },
     "metadata": {
      "needs_background": "light"
     },
     "output_type": "display_data"
    }
   ],
   "source": [
    "#Making an empty data frame with Date and matches as column names\n",
    "matchesDf = pd.DataFrame(columns=['Date', 'Matches'])\n",
    "\n",
    "#Appending all the matches in the data frame\n",
    "for key, value in usageData['matches'].items():\n",
    "    matchesDf = matchesDf.append(pd.DataFrame([[key,value]], columns=matchesDf.columns))\n",
    "\n",
    "#Extracting the day names into another column\n",
    "matchesDf['Weekday'] = pd.to_datetime(matchesDf['Date']).dt.day_name()\n",
    "\n",
    "#Summing values by the day of the week and then plotting a bar graph\n",
    "matchesDf.groupby('Weekday')['Matches'].sum().plot.bar()"
   ]
  },
  {
   "cell_type": "code",
   "execution_count": 44,
   "metadata": {},
   "outputs": [
    {
     "data": {
      "text/plain": [
       "<matplotlib.axes._subplots.AxesSubplot at 0x17a96d32320>"
      ]
     },
     "execution_count": 44,
     "metadata": {},
     "output_type": "execute_result"
    },
    {
     "data": {
      "image/png": "[encoded data removed]",
      "text/plain": [
       "<Figure size 432x288 with 1 Axes>"
      ]
     },
     "metadata": {
      "needs_background": "light"
     },
     "output_type": "display_data"
    }
   ],
   "source": [
    "#Making an empty data frame with Date and matches as column names\n",
    "appOpenDf = pd.DataFrame(columns=['Date', 'app_opens'])\n",
    "\n",
    "#Appending all the matches in the data frame\n",
    "for key, value in usageData['app_opens'].items():\n",
    "    appOpenDf = appOpenDf.append(pd.DataFrame([[key,value]], columns=appOpenDf.columns))\n",
    "\n",
    "#Extracting the day names into another column    \n",
    "appOpenDf['Weekday'] = pd.to_datetime(appOpenDf['Date']).dt.day_name()\n",
    "\n",
    "#Summing values by the day of the week and then plotting a bar graph\n",
    "appOpenDf.groupby('Weekday')['app_opens'].sum().plot.bar()"
   ]
  },
  {
   "cell_type": "code",
   "execution_count": 45,
   "metadata": {
    "scrolled": false
   },
   "outputs": [
    {
     "data": {
      "text/plain": [
       "<matplotlib.axes._subplots.AxesSubplot at 0x17a96db7588>"
      ]
     },
     "execution_count": 45,
     "metadata": {},
     "output_type": "execute_result"
    },
    {
     "data": {
      "image/png": "[encoded data removed]",
      "text/plain": [
       "<Figure size 432x288 with 1 Axes>"
      ]
     },
     "metadata": {
      "needs_background": "light"
     },
     "output_type": "display_data"
    }
   ],
   "source": [
    "#Making an empty data frame with Date and matches as column names\n",
    "df = pd.DataFrame(columns=['Date', 'messages_received'])\n",
    "\n",
    "#Appending all the matches in the data frame\n",
    "for key, value in usageData['messages_received'].items():\n",
    "    df = df.append(pd.DataFrame([[key,value]], columns=df.columns))\n",
    "    \n",
    "#Extracting the day names into another column\n",
    "df['Weekday'] = pd.to_datetime(df['Date']).dt.day_name()\n",
    "\n",
    "#Summing values by the day of the week and then plotting a bar graph\n",
    "df.groupby('Weekday')['messages_received'].sum().plot.bar()"
   ]
  },
  {
   "cell_type": "code",
   "execution_count": 46,
   "metadata": {},
   "outputs": [
    {
     "data": {
      "text/plain": [
       "<matplotlib.axes._subplots.AxesSubplot at 0x17a96e2e8d0>"
      ]
     },
     "execution_count": 46,
     "metadata": {},
     "output_type": "execute_result"
    },
    {
     "data": {
      "image/png": "[encoded data removed]",
      "text/plain": [
       "<Figure size 432x288 with 1 Axes>"
      ]
     },
     "metadata": {
      "needs_background": "light"
     },
     "output_type": "display_data"
    }
   ],
   "source": [
    "#Making an empty data frame with Date and matches as column names\n",
    "df = pd.DataFrame(columns=['Date', 'messages_sent'])\n",
    "\n",
    "#Appending all the matches in the data frame\n",
    "for key, value in usageData['messages_sent'].items():\n",
    "    df = df.append(pd.DataFrame([[key,value]], columns=df.columns))\n",
    "    \n",
    "#Extracting the day names into another column\n",
    "df['Weekday'] = pd.to_datetime(df['Date']).dt.day_name()\n",
    "\n",
    "#Summing values by the day of the week and then plotting a bar graph\n",
    "df.groupby('Weekday')['messages_sent'].sum().plot.bar()"
   ]
  },
  {
   "cell_type": "markdown",
   "metadata": {},
   "source": [
    "That's all. Happy Tindering :)"
   ]
  }
 ],
 "metadata": {
  "kernelspec": {
   "display_name": "Python 3",
   "language": "python",
   "name": "python3"
  },
  "language_info": {
   "codemirror_mode": {
    "name": "ipython",
    "version": 3
   },
   "file_extension": ".py",
   "mimetype": "text/x-python",
   "name": "python",
   "nbconvert_exporter": "python",
   "pygments_lexer": "ipython3",
   "version": "3.7.3"
  }
 },
 "nbformat": 4,
 "nbformat_minor": 2
}
